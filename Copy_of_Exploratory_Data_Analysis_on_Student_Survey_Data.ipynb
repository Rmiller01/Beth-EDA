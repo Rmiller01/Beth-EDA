{
  "nbformat": 4,
  "nbformat_minor": 0,
  "metadata": {
    "colab": {
      "private_outputs": true,
      "provenance": [],
      "include_colab_link": true
    },
    "kernelspec": {
      "name": "python3",
      "display_name": "Python 3"
    },
    "language_info": {
      "name": "python"
    }
  },
  "cells": [
    {
      "cell_type": "markdown",
      "metadata": {
        "id": "view-in-github",
        "colab_type": "text"
      },
      "source": [
        "<a href=\"https://colab.research.google.com/github/Rmiller01/Btech-EDA/blob/main/Copy_of_Exploratory_Data_Analysis_on_Student_Survey_Data.ipynb\" target=\"_parent\"><img src=\"https://colab.research.google.com/assets/colab-badge.svg\" alt=\"Open In Colab\"/></a>"
      ]
    },
    {
      "cell_type": "markdown",
      "source": [
        "# Exploratory Data Analysis on Student Survey Data\n",
        "Name: ___________\n",
        "\n",
        "This file is an incomplete analysis of data analytics student survey data.\n",
        "\n",
        "## Background\n",
        "As part of the Introduction to Data Analytics pre-admissions course, students complete a survey that asks them questions about their age, height, prior data analytics experience, and other things. This analysis seeks to explore various aspects of these surveys to learn more about students who enroll in the Data Analytics program at Bridgerland Technical College.\n",
        "\n",
        "## About the data\n",
        "The data comes from surveys taken by students of the Data Analytics program during the pre-admissions course Introduction to Data Analytics."
      ],
      "metadata": {
        "id": "JECL5Hxgh_kZ"
      }
    },
    {
      "cell_type": "code",
      "source": [
        "# Import the pandas library\n",
        "import pandas as pd\n",
        "\n",
        "# Import the data set as the variable `df`\n",
        "df = pd.read_csv('data_analytics_students.csv')"
      ],
      "metadata": {
        "id": "qsPL6UiXieGo"
      },
      "execution_count": null,
      "outputs": []
    },
    {
      "cell_type": "code",
      "source": [
        "# Get first five rows\n",
        "df.head()"
      ],
      "metadata": {
        "id": "NU0G7ABKl-Ms"
      },
      "execution_count": null,
      "outputs": []
    },
    {
      "cell_type": "code",
      "execution_count": null,
      "metadata": {
        "id": "ASWaX_W9ULOE"
      },
      "outputs": [],
      "source": [
        "# Get basic dataframe information\n",
        "df.______"
      ]
    },
    {
      "cell_type": "markdown",
      "source": [
        "As seen in the descriptive statistics below, the average age of students in the Data Analytics program is 31.8, while the median age is 28. The minimum age is 14, probably indicating that the student was still in high school, and the maximum age of enrollment was 78. The means that there is a wide range of ages for students in the data analytics program."
      ],
      "metadata": {
        "id": "q0OHKB-CJN-i"
      }
    },
    {
      "cell_type": "code",
      "source": [
        "# Get descriptive statistics\n",
        "df.describe()"
      ],
      "metadata": {
        "id": "zkS_wSxwip8i"
      },
      "execution_count": null,
      "outputs": []
    },
    {
      "cell_type": "code",
      "source": [
        "# Get rows and columns\n",
        "df.info()"
      ],
      "metadata": {
        "id": "e0RBi4RuizO1"
      },
      "execution_count": null,
      "outputs": []
    },
    {
      "cell_type": "code",
      "source": [
        "# Get the age of row 80\n",
        "df.loc[80, 'Age']"
      ],
      "metadata": {
        "id": "kSP0774Gnbo9"
      },
      "execution_count": null,
      "outputs": []
    },
    {
      "cell_type": "code",
      "source": [
        "# Get the favorite hobby of row 24\n",
        "df.loc[24,\"Favorite Hobby\"]"
      ],
      "metadata": {
        "id": "g2I1OCiPmJdb"
      },
      "execution_count": null,
      "outputs": []
    },
    {
      "cell_type": "code",
      "source": [
        "# Get the fictional character of row 42\n",
        "df.loc[42, 'Fictional Character']"
      ],
      "metadata": {
        "id": "GeSJsTikmxwT"
      },
      "execution_count": null,
      "outputs": []
    },
    {
      "cell_type": "markdown",
      "source": [
        "Students in the Data Analytics program have many different hobbies. The most common hobby, however, is reading, and the second most common hobby is skiing."
      ],
      "metadata": {
        "id": "rj9rUN3QJUKQ"
      }
    },
    {
      "cell_type": "code",
      "source": [
        "# See the most common hobbies among data analytics students\n",
        "df['Favorite Hobby'].value_counts()"
      ],
      "metadata": {
        "id": "GSnVSx2atHyp"
      },
      "execution_count": null,
      "outputs": []
    },
    {
      "cell_type": "markdown",
      "source": [
        "In terms of fictional characters, the most common fictional character among Data Analytics students is Iron Man. However, there are other characters listed multiple times as well, such as Sherlock Holmes, Hermione Granger, and Harry Potter."
      ],
      "metadata": {
        "id": "lCDHvuq5JY_Z"
      }
    },
    {
      "cell_type": "code",
      "source": [
        "# See the most common fictional character among data analytics students\n",
        "df['Fictional Character'].value_counts()"
      ],
      "metadata": {
        "id": "3L9ju5RzuVwC"
      },
      "execution_count": null,
      "outputs": []
    },
    {
      "cell_type": "markdown",
      "source": [
        "The favorite season for students in the Data Analytics program is overwhelmingly fall. There were 38 students who marked fall as their favorite season, and only 14 students marked that winter was their favorite season."
      ],
      "metadata": {
        "id": "eWtr4s8JJcUR"
      }
    },
    {
      "cell_type": "code",
      "source": [
        "# Which season do students like most?\n",
        "df['Favorite Season'].value_counts()"
      ],
      "metadata": {
        "id": "iWAaF1VRucO-"
      },
      "execution_count": null,
      "outputs": []
    },
    {
      "cell_type": "markdown",
      "source": [
        "Interestingly, there were about 29% of students enrolled in the Data Analytics program who had prior experience with data. That means that about 71% of student did not have prior experience before enrolling."
      ],
      "metadata": {
        "id": "zOg7UOwsJfCz"
      }
    },
    {
      "cell_type": "code",
      "source": [
        "# What percent of students have prior experience in data?\n",
        "df['Prior Data Experience'].value_counts(normalize=True)"
      ],
      "metadata": {
        "id": "I6s-rLUUuxA4"
      },
      "execution_count": null,
      "outputs": []
    },
    {
      "cell_type": "markdown",
      "source": [
        "Some of the values in the Height column aren't numbers, but instead contain some text. In this step, I will go through the data set using pandas and change all of the entries to be only numbers.\n",
        "\n",
        "There are several ways that you could approach this. For example, you could use .loc to print out a group of rows at a time (ie. 10 or 15 at once) and see which ones need fixing. You could also print out all of the rows at once to see which ones need to be fixed. Then, use the .loc property to manually change each of them."
      ],
      "metadata": {
        "id": "gCaRmHjOJkCk"
      }
    },
    {
      "cell_type": "code",
      "source": [
        "#### Clean the height data\n",
        "df.loc[31, 'Height'] = 69\n",
        "\n",
        "df.head(32)\n",
        "\n"
      ],
      "metadata": {
        "id": "96HxCUsdu247"
      },
      "execution_count": null,
      "outputs": []
    },
    {
      "cell_type": "markdown",
      "source": [
        "Finally, I will sort the data set by Age in descending order. That way, I can see the oldest students at the top of the table and the youngest students at the bottom."
      ],
      "metadata": {
        "id": "wWWjBbUuJoBT"
      }
    },
    {
      "cell_type": "code",
      "source": [
        "# Sort the data by Age in descending order\n",
        "df.sort_values(by= 'Age', ascending=False)"
      ],
      "metadata": {
        "id": "npyqp92DFHW2"
      },
      "execution_count": null,
      "outputs": []
    },
    {
      "cell_type": "code",
      "source": [
        "# Get the last twenty rows\n",
        "df.tail(20)"
      ],
      "metadata": {
        "id": "CAT2hxM7yeW3"
      },
      "execution_count": null,
      "outputs": []
    },
    {
      "cell_type": "markdown",
      "source": [
        "The resulting data set will now be exported as a clean data set below."
      ],
      "metadata": {
        "id": "f2O-q-9rJrDn"
      }
    },
    {
      "cell_type": "code",
      "source": [
        "df.to_csv('data_analytics_students_clean.csv')"
      ],
      "metadata": {
        "id": "J1-KhOC30XxS"
      },
      "execution_count": null,
      "outputs": []
    }
  ]
}