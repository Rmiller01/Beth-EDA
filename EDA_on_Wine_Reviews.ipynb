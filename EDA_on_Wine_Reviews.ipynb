{
  "nbformat": 4,
  "nbformat_minor": 0,
  "metadata": {
    "colab": {
      "provenance": [],
      "authorship_tag": "ABX9TyOfLrCYQAxuAdx2rMuF1Zsc",
      "include_colab_link": true
    },
    "kernelspec": {
      "name": "python3",
      "display_name": "Python 3"
    },
    "language_info": {
      "name": "python"
    }
  },
  "cells": [
    {
      "cell_type": "markdown",
      "metadata": {
        "id": "view-in-github",
        "colab_type": "text"
      },
      "source": [
        "<a href=\"https://colab.research.google.com/github/Rmiller01/Btech-EDA/blob/main/EDA_on_Wine_Reviews.ipynb\" target=\"_parent\"><img src=\"https://colab.research.google.com/assets/colab-badge.svg\" alt=\"Open In Colab\"/></a>"
      ]
    },
    {
      "cell_type": "code",
      "execution_count": null,
      "metadata": {
        "id": "GIKTs-icphjT"
      },
      "outputs": [],
      "source": [
        "import pandas as pd\n",
        "\n",
        "df = pd.read_csv(\"wine.csv\")"
      ]
    },
    {
      "cell_type": "code",
      "source": [
        "df.info()"
      ],
      "metadata": {
        "id": "Ntej1947rrx-"
      },
      "execution_count": null,
      "outputs": []
    },
    {
      "cell_type": "code",
      "source": [
        "Average_points = df.groupby('country')['points'].mean()\n",
        "\n",
        "country_with_highest_average = Average_points.idxmax()\n",
        "highest_average_points = Average_points.max()\n",
        "\n",
        "print(f\"The country with the highest average points is {country_with_highest_average} with an average of {highest_average_points} points.\")"
      ],
      "metadata": {
        "colab": {
          "base_uri": "https://localhost:8080/"
        },
        "id": "q3bOjKy7sjAM",
        "outputId": "ef9a647d-1965-480b-b2ab-301ae06ef3e8"
      },
      "execution_count": null,
      "outputs": [
        {
          "output_type": "stream",
          "name": "stdout",
          "text": [
            "The country with the highest average points is England with an average of 91.58108108108108 points.\n"
          ]
        }
      ]
    },
    {
      "cell_type": "code",
      "source": [
        "lowest_taster_score = df.groupby('taster_name')['points'].mean()\n",
        "\n",
        "taster_Low_Score = lowest_taster_score.idxmin()\n",
        "\n",
        "print(f'the tastser with the lowest scores is {taster_Low_Score}')"
      ],
      "metadata": {
        "colab": {
          "base_uri": "https://localhost:8080/"
        },
        "id": "99DKpvmfuLDJ",
        "outputId": "d4c51e7a-a812-4deb-b22a-c877816ea4aa"
      },
      "execution_count": null,
      "outputs": [
        {
          "output_type": "stream",
          "name": "stdout",
          "text": [
            "the tastser with the lowest scores is Alexander Peartree\n"
          ]
        }
      ]
    },
    {
      "cell_type": "code",
      "source": [
        "expensive_wine = df.groupby('variety')['price'].mean()\n",
        "\n",
        "most_expensive_wine = expensive_wine.idxmax()\n",
        "most_expensive_price = expensive_wine.max()\n",
        "\n",
        "print(f'The most expensive wine is {most_expensive_wine} with an average price of {most_expensive_price}')"
      ],
      "metadata": {
        "colab": {
          "base_uri": "https://localhost:8080/"
        },
        "id": "kOL6YQJbvelz",
        "outputId": "87e7be8b-a38a-4d24-a125-bf54e778ccfe"
      },
      "execution_count": null,
      "outputs": [
        {
          "output_type": "stream",
          "name": "stdout",
          "text": [
            "The most expensive wine is Ramisco with an average price of 495.0\n"
          ]
        }
      ]
    },
    {
      "cell_type": "code",
      "source": [
        "df['year'] = df['title'].str.extract(r'(\\d{4})')\n",
        "\n",
        "\n",
        "df['year'] = pd.to_numeric(df['year'])\n",
        "\n",
        "average_points_by_year = df.groupby('year')['points'].mean()\n",
        "\n",
        "year_with_highest_average = average_points_by_year.idxmax()\n",
        "\n",
        "\n",
        "print(f\"The year with the highest average points is {year_with_highest_average}\")"
      ],
      "metadata": {
        "colab": {
          "base_uri": "https://localhost:8080/"
        },
        "id": "N7TW_M-Hxq4E",
        "outputId": "2079d9d6-c237-4ebb-b873-3b7f25f18694"
      },
      "execution_count": null,
      "outputs": [
        {
          "output_type": "stream",
          "name": "stdout",
          "text": [
            "The year with the highest average points is 1969.0\n"
          ]
        }
      ]
    },
    {
      "cell_type": "code",
      "source": [
        "df['depth'] = df['description'].str.contains('depth')\n",
        "\n",
        "average_points_with_depth = df[df['depth'] == True]['points'].mean()\n",
        "average_points_without_depth = df[df['depth'] == False]['points'].mean()\n",
        "\n",
        "print(f\"Average points for reviews with 'depth': {average_points_with_depth}\")\n",
        "print(f\"Average points for reviews without 'depth': {average_points_without_depth}\")"
      ],
      "metadata": {
        "colab": {
          "base_uri": "https://localhost:8080/"
        },
        "id": "REdxDvj9z3QU",
        "outputId": "72c10129-3759-46b3-b7c2-762a5d15ae1a"
      },
      "execution_count": null,
      "outputs": [
        {
          "output_type": "stream",
          "name": "stdout",
          "text": [
            "Average points for reviews with 'depth': 90.10941176470588\n",
            "Average points for reviews without 'depth': 88.41387212468902\n"
          ]
        }
      ]
    },
    {
      "cell_type": "code",
      "source": [
        "df['fruity'] = df['description'].str.contains('fruity')\n",
        "\n",
        "average_points_with_fruity = df[df['fruity'] == True]['points'].mean()\n",
        "average_points_without_fruity = df[df['fruity'] == False]['points'].mean()\n",
        "\n",
        "print(f\"Average points for reviews with 'fruity': {average_points_with_fruity}\")\n",
        "print(f\"Average points for reviews without 'fruity': {average_points_without_fruity}\")"
      ],
      "metadata": {
        "colab": {
          "base_uri": "https://localhost:8080/"
        },
        "id": "FQHhclS103-j",
        "outputId": "4ba62d50-0092-4416-f4b5-ebf6b2fa44c1"
      },
      "execution_count": null,
      "outputs": [
        {
          "output_type": "stream",
          "name": "stdout",
          "text": [
            "Average points for reviews with 'fruity': 87.61452145214521\n",
            "Average points for reviews without 'fruity': 88.50974925753427\n"
          ]
        }
      ]
    },
    {
      "cell_type": "code",
      "source": [
        "df['herbal'] = df['description'].str.contains('herbal')\n",
        "\n",
        "average_points_with_herbal = df[df['herbal'] == True]['points'].mean()\n",
        "average_points_without_herbal = df[df['herbal'] == False]['points'].mean()\n",
        "\n",
        "print(f\"Average points for reviews with 'herbal': {average_points_with_herbal}\")\n",
        "print(f\"Average points for reviews without 'herbal': {average_points_without_herbal}\")"
      ],
      "metadata": {
        "colab": {
          "base_uri": "https://localhost:8080/"
        },
        "id": "oq6LiQty1OVw",
        "outputId": "68f3d800-de13-4536-9e4a-72b9a54bd38a"
      },
      "execution_count": null,
      "outputs": [
        {
          "output_type": "stream",
          "name": "stdout",
          "text": [
            "Average points for reviews with 'herbal': 87.47001862197394\n",
            "Average points for reviews without 'herbal': 88.4892496849945\n"
          ]
        }
      ]
    },
    {
      "cell_type": "code",
      "source": [
        "df['Review_Length'] = df['description'].str.len()\n",
        "\n",
        "Corr_between = df['Review_Length'].corr(df['points'])\n",
        "\n",
        "print(f\"the correlation between the Review length and point is {Corr_between}\")"
      ],
      "metadata": {
        "colab": {
          "base_uri": "https://localhost:8080/"
        },
        "id": "NyoKmKz2524k",
        "outputId": "6e44fcf4-47dc-4205-9710-4693088bc062"
      },
      "execution_count": null,
      "outputs": [
        {
          "output_type": "stream",
          "name": "stdout",
          "text": [
            "the correlation between the Review length and point is 0.5577602558815876\n"
          ]
        }
      ]
    },
    {
      "cell_type": "code",
      "source": [
        "df['region'] = df['title'].str.extract(r'(\\w+)')\n",
        "\n",
        "\n",
        "sicily_sardinia_df = df[df['province'].str.contains('Sicily & Sardinia', na = False)]\n",
        "\n",
        "\n",
        "average_points_by_region = sicily_sardinia_df.groupby('region')['points'].mean()\n",
        "\n",
        "best_region = average_points_by_region.idxmax()\n",
        "\n",
        "\n",
        "print(f\"The region in Sicily & Sardinia that produces the best wine, on average, is {best_region}\")"
      ],
      "metadata": {
        "colab": {
          "base_uri": "https://localhost:8080/"
        },
        "id": "AUmk6D927Os9",
        "outputId": "485457be-287e-43a3-bf21-cc8eb88a99b0"
      },
      "execution_count": null,
      "outputs": [
        {
          "output_type": "stream",
          "name": "stdout",
          "text": [
            "The region in Sicily & Sardinia that produces the best wine, on average, is Passopisciaro\n"
          ]
        }
      ]
    }
  ]
}